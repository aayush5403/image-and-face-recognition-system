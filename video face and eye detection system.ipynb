{
 "cells": [
  {
   "cell_type": "code",
   "execution_count": null,
   "id": "681970a1",
   "metadata": {},
   "outputs": [],
   "source": [
    "import  cv2\n",
    "cap = cv2.VideoCapture(0)\n",
    "while 1:\n",
    "    ret, frame = cap.read()\n",
    "    cv2.imshow('Frame', frame)\n",
    "    \n",
    "    k = cv2.waitKey(1) & 0xFF\n",
    "    if k == ord('q') or k == 27:\n",
    "        break\n",
    "\n",
    "cap.release()\n",
    "cv2.destroyAllWindows()"
   ]
  },
  {
   "cell_type": "code",
   "execution_count": null,
   "id": "708ded61",
   "metadata": {},
   "outputs": [],
   "source": [
    "import cv2\n",
    "import imutils\n",
    "\n",
    "face_cascade = cv2.CascadeClassifier(\"C:/Users/Aayush Sharma/Downloads/haarcascade_frontalface_default.xml\")\n",
    "eye_cascade = cv2.CascadeClassifier(\"C:/Users/Aayush Sharma/Downloads/haarcascade_eye.xml\")\n",
    "\n",
    "# 0 = CamID (Primary Camera)\n",
    "vid = cv2.VideoCapture(0)\n",
    "\n",
    "while 1:\n",
    "    ret, frame = vid.read()\n",
    "    # Resize the image\n",
    "    img_r = imutils.resize(frame, width = 1000)\n",
    "    \n",
    "    # Convert Image to GrayScale\n",
    "    gray = cv2.cvtColor(img_r, cv2.COLOR_BGR2GRAY)\n",
    "    # 1.3 = threshold value for scale factor, 5 = Num of nearest neighbouring features\n",
    "    faces = face_cascade.detectMultiScale(gray, 1.3, 5)\n",
    "    \n",
    "    for (x,y,w,h) in faces:\n",
    "        # Draw the rectangle\n",
    "        cv2.rectangle(img_r, (x,y),(x+w, y+h), (255,255,255), 2)\n",
    "        # ROI is region of face\n",
    "        roi_gray = gray[y:y+h, x:x+w]\n",
    "        roi_color = img_r[y:y+h, x:x+w]\n",
    "        eyes = eye_cascade.detectMultiScale(roi_gray, 1.3, 3)\n",
    "        for (ex,ey,ew,eh) in eyes:\n",
    "            # Draw the rectangle\n",
    "            cv2.rectangle(roi_color, (ex,ey),(ex+ew, ey+eh), (0,0,0), 2)\n",
    "    \n",
    "    cv2.imshow('Frame', img_r)\n",
    "    \n",
    "    k = cv2.waitKey(1) & 0xFF\n",
    "    if k == ord('q') or k == 27:\n",
    "        break               \n",
    "\n",
    "vid.release()\n",
    "cv2.destroyAllWindows()"
   ]
  },
  {
   "cell_type": "code",
   "execution_count": null,
   "id": "e8834c33",
   "metadata": {},
   "outputs": [],
   "source": []
  }
 ],
 "metadata": {
  "kernelspec": {
   "display_name": "Python 3 (ipykernel)",
   "language": "python",
   "name": "python3"
  },
  "language_info": {
   "codemirror_mode": {
    "name": "ipython",
    "version": 3
   },
   "file_extension": ".py",
   "mimetype": "text/x-python",
   "name": "python",
   "nbconvert_exporter": "python",
   "pygments_lexer": "ipython3",
   "version": "3.11.5"
  }
 },
 "nbformat": 4,
 "nbformat_minor": 5
}
