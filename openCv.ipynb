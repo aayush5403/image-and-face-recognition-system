{
 "cells": [
  {
   "cell_type": "code",
   "execution_count": 1,
   "id": "c31e98c8",
   "metadata": {},
   "outputs": [],
   "source": [
    "import cv2"
   ]
  },
  {
   "cell_type": "code",
   "execution_count": 2,
   "id": "3a58eefb",
   "metadata": {},
   "outputs": [
    {
     "name": "stdout",
     "output_type": "stream",
     "text": [
      "Requirement already satisfied: opencv-python in c:\\users\\aayush sharma\\anaconda3\\lib\\site-packages (4.8.1.78)\n",
      "Requirement already satisfied: numpy>=1.21.2 in c:\\users\\aayush sharma\\anaconda3\\lib\\site-packages (from opencv-python) (1.24.3)\n"
     ]
    }
   ],
   "source": [
    "!pip install opencv-python"
   ]
  },
  {
   "cell_type": "code",
   "execution_count": 3,
   "id": "6a66bb3d",
   "metadata": {},
   "outputs": [
    {
     "name": "stdout",
     "output_type": "stream",
     "text": [
      "Requirement already satisfied: opencv-contrib-python in c:\\users\\aayush sharma\\anaconda3\\lib\\site-packages (4.8.1.78)\n",
      "Requirement already satisfied: numpy>=1.21.2 in c:\\users\\aayush sharma\\anaconda3\\lib\\site-packages (from opencv-contrib-python) (1.24.3)\n"
     ]
    }
   ],
   "source": [
    "!pip install opencv-contrib-python"
   ]
  },
  {
   "cell_type": "code",
   "execution_count": 4,
   "id": "f6b45e84",
   "metadata": {},
   "outputs": [],
   "source": [
    "import cv2\n"
   ]
  },
  {
   "cell_type": "code",
   "execution_count": 5,
   "id": "79d2035b",
   "metadata": {},
   "outputs": [],
   "source": [
    "img = cv2.imread(\"C:/Users/Aayush Sharma/Desktop/opencv/parrot.jpg\")\n"
   ]
  },
  {
   "cell_type": "code",
   "execution_count": 6,
   "id": "85671534",
   "metadata": {},
   "outputs": [
    {
     "data": {
      "text/plain": [
       "array([[[ 71,  71,  71],\n",
       "        [255, 255, 255],\n",
       "        [  0,   0,   0],\n",
       "        ...,\n",
       "        [255, 255, 255],\n",
       "        [  9,   9,   9],\n",
       "        [ 10,  10,  10]],\n",
       "\n",
       "       [[251, 251, 251],\n",
       "        [ 66,  66,  66],\n",
       "        [ 61,  61,  61],\n",
       "        ...,\n",
       "        [  9,   9,   9],\n",
       "        [  0,   0,   0],\n",
       "        [ 10,  10,  10]],\n",
       "\n",
       "       [[  2,   2,   2],\n",
       "        [ 64,  64,  64],\n",
       "        [  4,   4,   4],\n",
       "        ...,\n",
       "        [  6,   6,   6],\n",
       "        [  9,   9,   9],\n",
       "        [ 12,  12,  12]],\n",
       "\n",
       "       ...,\n",
       "\n",
       "       [[  0,   0,   0],\n",
       "        [ 16,  16,  16],\n",
       "        [ 10,  10,  10],\n",
       "        ...,\n",
       "        [ 22,  22,  22],\n",
       "        [ 18,  18,  18],\n",
       "        [255, 255, 255]],\n",
       "\n",
       "       [[ 11,  11,  11],\n",
       "        [250, 250, 250],\n",
       "        [  5,   5,   5],\n",
       "        ...,\n",
       "        [  0,   0,   0],\n",
       "        [ 22,  22,  22],\n",
       "        [  0,   0,   0]],\n",
       "\n",
       "       [[255, 255, 255],\n",
       "        [  5,   5,   5],\n",
       "        [  0,   0,   0],\n",
       "        ...,\n",
       "        [  0,   0,   0],\n",
       "        [ 20,  20,  20],\n",
       "        [  0,   0,   0]]], dtype=uint8)"
      ]
     },
     "execution_count": 6,
     "metadata": {},
     "output_type": "execute_result"
    }
   ],
   "source": [
    "img"
   ]
  },
  {
   "cell_type": "code",
   "execution_count": 7,
   "id": "c16dbf8a",
   "metadata": {},
   "outputs": [],
   "source": [
    "#2. Convert RGB image to Gray scale\n",
    "img_g = cv2.cvtColor(img, cv2.COLOR_BGR2GRAY)\n"
   ]
  },
  {
   "cell_type": "code",
   "execution_count": 8,
   "id": "02218965",
   "metadata": {},
   "outputs": [],
   "source": [
    "#cv2.imshow('Gray' , img_g)\n",
    "cv2.imshow('frame1', img)\n",
    "cv2.imshow('frame2', img_g)\n",
    "# press any key with 0 wait time\n",
    "cv2.waitKey(0)\n",
    "# Close all imageframe\n",
    "cv2.destroyAllWindows()"
   ]
  },
  {
   "cell_type": "code",
   "execution_count": 9,
   "id": "7e4ee760",
   "metadata": {},
   "outputs": [
    {
     "data": {
      "text/plain": [
       "array([[ 71, 255,   0, ..., 255,   9,  10],\n",
       "       [251,  66,  61, ...,   9,   0,  10],\n",
       "       [  2,  64,   4, ...,   6,   9,  12],\n",
       "       ...,\n",
       "       [  0,  16,  10, ...,  22,  18, 255],\n",
       "       [ 11, 250,   5, ...,   0,  22,   0],\n",
       "       [255,   5,   0, ...,   0,  20,   0]], dtype=uint8)"
      ]
     },
     "execution_count": 9,
     "metadata": {},
     "output_type": "execute_result"
    }
   ],
   "source": [
    "img_g"
   ]
  },
  {
   "cell_type": "code",
   "execution_count": 10,
   "id": "7911a209",
   "metadata": {},
   "outputs": [
    {
     "data": {
      "text/plain": [
       "(425, 640)"
      ]
     },
     "execution_count": 10,
     "metadata": {},
     "output_type": "execute_result"
    }
   ],
   "source": [
    "img_g.shape"
   ]
  },
  {
   "cell_type": "code",
   "execution_count": 11,
   "id": "56bd329b",
   "metadata": {},
   "outputs": [],
   "source": [
    "import cv2\n",
    "\n",
    "img = cv2.imread(\"C:/Users/Aayush Sharma/Desktop/opencv/parrot.jpg\")\n",
    "\n",
    "cv2.imshow('Original', img)\n",
    "# convert BGR format to Grayscale\n",
    "img_g = cv2.cvtColor(img, cv2.COLOR_BGR2GRAY)\n",
    "\n",
    "# Canny(image, threshold1, threshold2)\n",
    "# Computing Edge Gradient with canny thresholds\n",
    "# The edge gradients that are greater tha threshold value will be detected as Edges\n",
    "# thresholds lower than threshold1 will not be considered as edges.\n",
    "edges_low = cv2.Canny(img_g, 10, 50)\n",
    "cv2.imshow('Edge Detection', edges_low)\n",
    "\n",
    "edges_high = cv2.Canny(img_g, 150, 250)\n",
    "cv2.imshow('High Edge Detection', edges_high)\n",
    "\n",
    "# press any key with 0 wait time\n",
    "cv2.waitKey(0)\n",
    "# Close all imageframe\n",
    "cv2.destroyAllWindows()"
   ]
  },
  {
   "cell_type": "code",
   "execution_count": null,
   "id": "e19100b1",
   "metadata": {},
   "outputs": [],
   "source": [
    "#3 Smoothening of image\n",
    "#Different ways of smoothening - using Filter2D , Average , Median , GaussianBlurr\n",
    "import cv2 \n",
    "import numpy as np\n",
    "\n",
    "img = cv2.imread(\"C:/Users/Aayush Sharma/Desktop/opencv/child.jpg\")\n",
    "\n",
    "# Blur using Filter2D\n",
    "kernel = np.ones((5,5), np.float32) / 25\n",
    "print(kernel)\n",
    "\n",
    "# Filter2D\n",
    "smoothed = cv2.filter2D(img, -1, kernel)\n",
    "\n",
    "# Average Blur\n",
    "img_blur = cv2.blur(img, (5,5))\n",
    "\n",
    "# Median Blur\n",
    "m_blur = cv2.medianBlur(img, 5)\n",
    "\n",
    "# Gaussian Blur, sigmaX(stdDev)= 1\n",
    "g_blur = cv2.GaussianBlur(img, (5,5), 1)\n",
    "\n",
    "cv2.imshow('Original', img)\n",
    "cv2.imshow('Blur', smoothed)\n",
    "cv2.imshow('average', img_blur)\n",
    "cv2.imshow('median', m_blur)\n",
    "cv2.imshow('gaussian', g_blur)\n",
    "\n",
    "# press any key with 0 wait time\n",
    "cv2.waitKey(0)\n",
    "# Close all imageframe\n",
    "cv2.destroyAllWindows()"
   ]
  },
  {
   "cell_type": "code",
   "execution_count": null,
   "id": "e477db34",
   "metadata": {},
   "outputs": [],
   "source": []
  },
  {
   "cell_type": "code",
   "execution_count": null,
   "id": "38654ee4",
   "metadata": {},
   "outputs": [],
   "source": []
  }
 ],
 "metadata": {
  "kernelspec": {
   "display_name": "Python 3 (ipykernel)",
   "language": "python",
   "name": "python3"
  },
  "language_info": {
   "codemirror_mode": {
    "name": "ipython",
    "version": 3
   },
   "file_extension": ".py",
   "mimetype": "text/x-python",
   "name": "python",
   "nbconvert_exporter": "python",
   "pygments_lexer": "ipython3",
   "version": "3.11.5"
  }
 },
 "nbformat": 4,
 "nbformat_minor": 5
}
