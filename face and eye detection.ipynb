{
 "cells": [
  {
   "cell_type": "code",
   "execution_count": 1,
   "id": "434ea7ef",
   "metadata": {},
   "outputs": [
    {
     "ename": "error",
     "evalue": "OpenCV(4.8.1) D:\\a\\opencv-python\\opencv-python\\opencv\\modules\\objdetect\\src\\cascadedetect.cpp:1689: error: (-215:Assertion failed) !empty() in function 'cv::CascadeClassifier::detectMultiScale'\n",
     "output_type": "error",
     "traceback": [
      "\u001b[1;31m---------------------------------------------------------------------------\u001b[0m",
      "\u001b[1;31merror\u001b[0m                                     Traceback (most recent call last)",
      "Cell \u001b[1;32mIn[1], line 16\u001b[0m\n\u001b[0;32m     14\u001b[0m gray \u001b[38;5;241m=\u001b[39m cv2\u001b[38;5;241m.\u001b[39mcvtColor(img_r, cv2\u001b[38;5;241m.\u001b[39mCOLOR_BGR2GRAY)\n\u001b[0;32m     15\u001b[0m \u001b[38;5;66;03m# 1.3 = threshold value for scale factor, 5 = Num of nearest neighbouring features\u001b[39;00m\n\u001b[1;32m---> 16\u001b[0m faces \u001b[38;5;241m=\u001b[39m face_cascade\u001b[38;5;241m.\u001b[39mdetectMultiScale(gray, \u001b[38;5;241m1.3\u001b[39m, \u001b[38;5;241m5\u001b[39m)\n\u001b[0;32m     18\u001b[0m \u001b[38;5;28;01mfor\u001b[39;00m (x,y,w,h) \u001b[38;5;129;01min\u001b[39;00m faces:\n\u001b[0;32m     19\u001b[0m     \u001b[38;5;66;03m# Draw the rectangle\u001b[39;00m\n\u001b[0;32m     20\u001b[0m     cv2\u001b[38;5;241m.\u001b[39mrectangle(img_r, (x,y),(x\u001b[38;5;241m+\u001b[39mw, y\u001b[38;5;241m+\u001b[39mh), (\u001b[38;5;241m255\u001b[39m,\u001b[38;5;241m255\u001b[39m,\u001b[38;5;241m255\u001b[39m), \u001b[38;5;241m2\u001b[39m)\n",
      "\u001b[1;31merror\u001b[0m: OpenCV(4.8.1) D:\\a\\opencv-python\\opencv-python\\opencv\\modules\\objdetect\\src\\cascadedetect.cpp:1689: error: (-215:Assertion failed) !empty() in function 'cv::CascadeClassifier::detectMultiScale'\n"
     ]
    }
   ],
   "source": [
    "import cv2\n",
    "import imutils\n",
    "\n",
    "face_cascade = cv2.CascadeClassifier(\"C:/Users/Aayush Sharma/Downloads/haarcascade_frontalface_default.xml\")\n",
    "eye_cascade = cv2.CascadeClassifier(\"C:/Users/Aayush Sharma/Downloads/haarcascade_eye.xml\")\n",
    "\n",
    "# Read Image\n",
    "img = cv2.imread(\"C:/Users/Aayush Sharma/Desktop/opencv/child.jpg\")\n",
    "\n",
    "# Resize the image\n",
    "img_r = imutils.resize(img, width = 1000)\n",
    "\n",
    "# Convert Image to GrayScale\n",
    "gray = cv2.cvtColor(img_r, cv2.COLOR_BGR2GRAY)\n",
    "# 1.3 = threshold value for scale factor, 5 = Num of nearest neighbouring features\n",
    "faces = face_cascade.detectMultiScale(gray, 1.3, 5)\n",
    "\n",
    "for (x,y,w,h) in faces:\n",
    "    # Draw the rectangle\n",
    "    cv2.rectangle(img_r, (x,y),(x+w, y+h), (255,255,255), 2)\n",
    "    # ROI is region of face\n",
    "    roi_gray = gray[y:y+h, x:x+w]\n",
    "    roi_color = img_r[y:y+h, x:x+w]\n",
    "    eyes = eye_cascade.detectMultiScale(roi_gray, 1.3, 3)\n",
    "    for (ex,ey,ew,eh) in eyes:\n",
    "        # Draw the rectangle\n",
    "        cv2.rectangle(roi_color, (ex,ey),(ex+ew, ey+eh), (0,0,0), 2)\n",
    "        \n",
    "cv2.imshow('frame', img_r)\n",
    "cv2.waitKey(0)\n",
    "cv2.destroyAllWindows()"
   ]
  },
  {
   "cell_type": "code",
   "execution_count": 2,
   "id": "cdefaaa1",
   "metadata": {},
   "outputs": [
    {
     "name": "stdout",
     "output_type": "stream",
     "text": [
      "Requirement already satisfied: imutils in c:\\users\\aayush sharma\\anaconda3\\lib\\site-packages (0.5.4)\n"
     ]
    }
   ],
   "source": [
    "!pip install imutils\n"
   ]
  },
  {
   "cell_type": "code",
   "execution_count": null,
   "id": "462641db",
   "metadata": {},
   "outputs": [],
   "source": [
    "import  cv2\n",
    "cap = cv2.VideoCapture(0)\n",
    "while 1:\n",
    "    ret, frame = cap.read()\n",
    "    cv2.imshow('Frame', frame)\n",
    "    \n",
    "    k = cv2.waitKey(1) & 0xFF\n",
    "    if k == ord('q') or k == 27:\n",
    "        break\n",
    "\n",
    "cap.release()\n",
    "cv2.destroyAllWindows()\n",
    "    "
   ]
  },
  {
   "cell_type": "code",
   "execution_count": null,
   "id": "fc6f6913",
   "metadata": {},
   "outputs": [],
   "source": [
    "import cv2\n",
    "import imutils\n",
    "\n",
    "face_cascade = cv2.CascadeClassifier(\"C:/Users/Aayush Sharma/Downloads/haarcascade_frontalface_default.xml\")\n",
    "eye_cascade = cv2.CascadeClassifier(\"C:/Users/Aayush Sharma/Downloads/haarcascade_eye.xml\")\n",
    "\n",
    "# 0 = CamID (Primary Camera)\n",
    "vid = cv2.VideoCapture(0)\n",
    "\n",
    "while 1:\n",
    "    ret, frame = vid.read()\n",
    "    # Resize the image\n",
    "    img_r = imutils.resize(frame, width = 1000)\n",
    "    \n",
    "    # Convert Image to GrayScale\n",
    "    gray = cv2.cvtColor(img_r, cv2.COLOR_BGR2GRAY)\n",
    "    # 1.3 = threshold value for scale factor, 5 = Num of nearest neighbouring features\n",
    "    faces = face_cascade.detectMultiScale(gray, 1.3, 5)\n",
    "    \n",
    "    for (x,y,w,h) in faces:\n",
    "        # Draw the rectangle\n",
    "        cv2.rectangle(img_r, (x,y),(x+w, y+h), (255,255,255), 2)\n",
    "        # ROI is region of face\n",
    "        roi_gray = gray[y:y+h, x:x+w]\n",
    "        roi_color = img_r[y:y+h, x:x+w]\n",
    "        eyes = eye_cascade.detectMultiScale(roi_gray, 1.3, 3)\n",
    "        for (ex,ey,ew,eh) in eyes:\n",
    "            # Draw the rectangle\n",
    "            cv2.rectangle(roi_color, (ex,ey),(ex+ew, ey+eh), (0,0,0), 2)\n",
    "    \n",
    "    cv2.imshow('Frame', img_r)\n",
    "    \n",
    "    k = cv2.waitKey(1) & 0xFF\n",
    "    if k == ord('q') or k == 27:\n",
    "        break               \n",
    "\n",
    "vid.release()\n",
    "cv2.destroyAllWindows()"
   ]
  },
  {
   "cell_type": "code",
   "execution_count": null,
   "id": "dc2c2100",
   "metadata": {},
   "outputs": [],
   "source": []
  }
 ],
 "metadata": {
  "kernelspec": {
   "display_name": "Python 3 (ipykernel)",
   "language": "python",
   "name": "python3"
  },
  "language_info": {
   "codemirror_mode": {
    "name": "ipython",
    "version": 3
   },
   "file_extension": ".py",
   "mimetype": "text/x-python",
   "name": "python",
   "nbconvert_exporter": "python",
   "pygments_lexer": "ipython3",
   "version": "3.11.5"
  }
 },
 "nbformat": 4,
 "nbformat_minor": 5
}
